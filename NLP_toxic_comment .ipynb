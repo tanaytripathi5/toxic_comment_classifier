{
 "cells": [
  {
   "cell_type": "code",
   "execution_count": 1,
   "metadata": {},
   "outputs": [],
   "source": [
    "import numpy as np\n",
    "import pandas as pd\n",
    "import matplotlib.pyplot as plt\n",
    "import tensorflow as tf\n",
    "from tensorflow.keras.preprocessing.text import Tokenizer\n",
    "from tensorflow.keras.preprocessing.sequence import pad_sequences\n",
    "from tensorflow.keras.callbacks import EarlyStopping\n",
    "from tensorflow.keras import regularizers\n"
   ]
  },
  {
   "cell_type": "code",
   "execution_count": 2,
   "metadata": {},
   "outputs": [
    {
     "name": "stderr",
     "output_type": "stream",
     "text": [
      "Skipping line 46111: unexpected end of data\n"
     ]
    }
   ],
   "source": [
    "dataset = pd.read_csv(r'D:\\Projects\\NLP\\train.csv',engine ='python',encoding ='utf8',error_bad_lines=False)"
   ]
  },
  {
   "cell_type": "code",
   "execution_count": 3,
   "metadata": {},
   "outputs": [
    {
     "name": "stdout",
     "output_type": "stream",
     "text": [
      "<class 'pandas.core.frame.DataFrame'>\n",
      "RangeIndex: 46109 entries, 0 to 46108\n",
      "Data columns (total 8 columns):\n",
      " #   Column         Non-Null Count  Dtype \n",
      "---  ------         --------------  ----- \n",
      " 0   id             46109 non-null  object\n",
      " 1   comment_text   46109 non-null  object\n",
      " 2   toxic          46109 non-null  int64 \n",
      " 3   severe_toxic   46109 non-null  int64 \n",
      " 4   obscene        46109 non-null  int64 \n",
      " 5   threat         46109 non-null  int64 \n",
      " 6   insult         46109 non-null  int64 \n",
      " 7   identity_hate  46109 non-null  int64 \n",
      "dtypes: int64(6), object(2)\n",
      "memory usage: 2.8+ MB\n"
     ]
    }
   ],
   "source": [
    "dataset.info()"
   ]
  },
  {
   "cell_type": "code",
   "execution_count": 4,
   "metadata": {},
   "outputs": [],
   "source": [
    "comments = dataset.iloc[:,1].values"
   ]
  },
  {
   "cell_type": "code",
   "execution_count": 5,
   "metadata": {},
   "outputs": [],
   "source": [
    "toxic_label = dataset.iloc[:,2].values"
   ]
  },
  {
   "cell_type": "code",
   "execution_count": 6,
   "metadata": {},
   "outputs": [],
   "source": [
    "training_size = 35000\n",
    "vocab_size = 1000\n",
    "max_length = 10"
   ]
  },
  {
   "cell_type": "code",
   "execution_count": 7,
   "metadata": {},
   "outputs": [],
   "source": [
    "train_com = comments[0:training_size]\n",
    "test_com = comments [training_size:]\n",
    "train_label = toxic_label[0:training_size]\n",
    "test_label = toxic_label[training_size:]"
   ]
  },
  {
   "cell_type": "code",
   "execution_count": 8,
   "metadata": {},
   "outputs": [],
   "source": [
    "tokenizer = Tokenizer(num_words=vocab_size, oov_token=\"<OOV>\")\n",
    "tokenizer.fit_on_texts(train_com)"
   ]
  },
  {
   "cell_type": "code",
   "execution_count": 9,
   "metadata": {},
   "outputs": [],
   "source": [
    "word_index = tokenizer.word_index"
   ]
  },
  {
   "cell_type": "code",
   "execution_count": 10,
   "metadata": {},
   "outputs": [],
   "source": [
    "train_com = tokenizer.texts_to_sequences(train_com)\n",
    "train_pad = pad_sequences(train_com, maxlen=max_length, padding='post', truncating='post')"
   ]
  },
  {
   "cell_type": "code",
   "execution_count": 11,
   "metadata": {},
   "outputs": [],
   "source": [
    "test_com = tokenizer.texts_to_sequences(test_com)\n",
    "test_pad = pad_sequences(test_com, maxlen=max_length, padding='post', truncating='post')"
   ]
  },
  {
   "cell_type": "code",
   "execution_count": 12,
   "metadata": {},
   "outputs": [],
   "source": [
    "train_pad = np.array(train_pad)\n",
    "train_label = np.array(train_label)\n",
    "test_pad = np.array(test_pad)\n",
    "test_label = np.array(test_label)"
   ]
  },
  {
   "cell_type": "code",
   "execution_count": 48,
   "metadata": {},
   "outputs": [],
   "source": [
    "model = tf.keras.Sequential([\n",
    "    tf.keras.layers.Embedding(vocab_size,5, input_length=max_length),\n",
    "    tf.keras.layers.Dropout(0.2),\n",
    "    tf.keras.layers.Conv1D(64, 5, activation='relu', kernel_regularizer = regularizers.l2(0.01) ),\n",
    "    tf.keras.layers.MaxPooling1D(pool_size=4),\n",
    "    tf.keras.layers.LSTM(32, kernel_regularizer = regularizers.l2(0.01)),\n",
    "    tf.keras.layers.Dropout(0.2),\n",
    "    tf.keras.layers.Dense(1, activation='sigmoid')\n",
    "    \n",
    "])\n",
    "\n",
    "callback =EarlyStopping(monitor='val_accuracy', patience=4)\n",
    "model.compile(loss='binary_crossentropy',optimizer='adam',metrics=['accuracy'])"
   ]
  },
  {
   "cell_type": "code",
   "execution_count": 49,
   "metadata": {},
   "outputs": [
    {
     "name": "stdout",
     "output_type": "stream",
     "text": [
      "Model: \"sequential_9\"\n",
      "_________________________________________________________________\n",
      "Layer (type)                 Output Shape              Param #   \n",
      "=================================================================\n",
      "embedding_9 (Embedding)      (None, 10, 5)             5000      \n",
      "_________________________________________________________________\n",
      "dropout_18 (Dropout)         (None, 10, 5)             0         \n",
      "_________________________________________________________________\n",
      "conv1d_9 (Conv1D)            (None, 6, 64)             1664      \n",
      "_________________________________________________________________\n",
      "max_pooling1d_9 (MaxPooling1 (None, 1, 64)             0         \n",
      "_________________________________________________________________\n",
      "lstm_9 (LSTM)                (None, 32)                12416     \n",
      "_________________________________________________________________\n",
      "dropout_19 (Dropout)         (None, 32)                0         \n",
      "_________________________________________________________________\n",
      "dense_9 (Dense)              (None, 1)                 33        \n",
      "=================================================================\n",
      "Total params: 19,113\n",
      "Trainable params: 19,113\n",
      "Non-trainable params: 0\n",
      "_________________________________________________________________\n"
     ]
    }
   ],
   "source": [
    "model.summary()"
   ]
  },
  {
   "cell_type": "code",
   "execution_count": 50,
   "metadata": {},
   "outputs": [
    {
     "name": "stdout",
     "output_type": "stream",
     "text": [
      "Epoch 1/15\n",
      "1094/1094 - 5s - loss: 0.4008 - accuracy: 0.9018 - val_loss: 0.3279 - val_accuracy: 0.8992\n",
      "Epoch 2/15\n",
      "1094/1094 - 5s - loss: 0.3210 - accuracy: 0.9020 - val_loss: 0.3097 - val_accuracy: 0.8992\n",
      "Epoch 3/15\n",
      "1094/1094 - 5s - loss: 0.2816 - accuracy: 0.9113 - val_loss: 0.2656 - val_accuracy: 0.9153\n",
      "Epoch 4/15\n",
      "1094/1094 - 5s - loss: 0.2541 - accuracy: 0.9213 - val_loss: 0.2486 - val_accuracy: 0.9216\n",
      "Epoch 5/15\n",
      "1094/1094 - 5s - loss: 0.2399 - accuracy: 0.9254 - val_loss: 0.2422 - val_accuracy: 0.9235\n",
      "Epoch 6/15\n",
      "1094/1094 - 5s - loss: 0.2337 - accuracy: 0.9272 - val_loss: 0.2355 - val_accuracy: 0.9257\n",
      "Epoch 7/15\n",
      "1094/1094 - 5s - loss: 0.2274 - accuracy: 0.9277 - val_loss: 0.2332 - val_accuracy: 0.9266\n",
      "Epoch 8/15\n",
      "1094/1094 - 5s - loss: 0.2228 - accuracy: 0.9293 - val_loss: 0.2316 - val_accuracy: 0.9268\n",
      "Epoch 9/15\n",
      "1094/1094 - 5s - loss: 0.2205 - accuracy: 0.9291 - val_loss: 0.2310 - val_accuracy: 0.9274\n",
      "Epoch 10/15\n",
      "1094/1094 - 5s - loss: 0.2184 - accuracy: 0.9293 - val_loss: 0.2294 - val_accuracy: 0.9279\n",
      "Epoch 11/15\n",
      "1094/1094 - 5s - loss: 0.2162 - accuracy: 0.9295 - val_loss: 0.2334 - val_accuracy: 0.9270\n",
      "Epoch 12/15\n",
      "1094/1094 - 5s - loss: 0.2150 - accuracy: 0.9295 - val_loss: 0.2305 - val_accuracy: 0.9274\n",
      "Epoch 13/15\n",
      "1094/1094 - 5s - loss: 0.2126 - accuracy: 0.9298 - val_loss: 0.2344 - val_accuracy: 0.9278\n",
      "Epoch 14/15\n",
      "1094/1094 - 5s - loss: 0.2125 - accuracy: 0.9298 - val_loss: 0.2318 - val_accuracy: 0.9278\n"
     ]
    }
   ],
   "source": [
    "num_epochs = 15\n",
    "history = model.fit(train_pad, train_label, epochs=num_epochs, validation_data=(test_pad, test_label), verbose=2,batch_size=32,callbacks=[callback])"
   ]
  },
  {
   "cell_type": "code",
   "execution_count": 51,
   "metadata": {},
   "outputs": [
    {
     "data": {
      "image/png": "[encoded data removed]",
      "text/plain": [
       "<Figure size 432x288 with 1 Axes>"
      ]
     },
     "metadata": {
      "needs_background": "light"
     },
     "output_type": "display_data"
    },
    {
     "data": {
      "image/png": "[encoded data removed]",
      "text/plain": [
       "<Figure size 432x288 with 1 Axes>"
      ]
     },
     "metadata": {
      "needs_background": "light"
     },
     "output_type": "display_data"
    }
   ],
   "source": [
    "def plot_graphs(history, string):\n",
    "    plt.plot(history.history[string])\n",
    "    plt.plot(history.history['val_'+string])\n",
    "    plt.xlabel(\"Epochs\")\n",
    "    plt.ylabel(string)\n",
    "    plt.legend([string, 'val_'+string])\n",
    "    plt.show()\n",
    "  \n",
    "plot_graphs(history, \"accuracy\")\n",
    "plot_graphs(history, \"loss\")"
   ]
  },
  {
   "cell_type": "code",
   "execution_count": null,
   "metadata": {},
   "outputs": [],
   "source": []
  }
 ],
 "metadata": {
  "kernelspec": {
   "display_name": "Python 3",
   "language": "python",
   "name": "python3"
  },
  "language_info": {
   "codemirror_mode": {
    "name": "ipython",
    "version": 3
   },
   "file_extension": ".py",
   "mimetype": "text/x-python",
   "name": "python",
   "nbconvert_exporter": "python",
   "pygments_lexer": "ipython3",
   "version": "3.8.3"
  }
 },
 "nbformat": 4,
 "nbformat_minor": 4
}
